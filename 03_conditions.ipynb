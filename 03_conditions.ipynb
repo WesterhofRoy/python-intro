{
 "cells": [
  {
   "cell_type": "markdown",
   "metadata": {},
   "source": [
    "# Conditional statements\n",
    "\n",
    "You can use the if statement to write a conditional statement.\n",
    "If statements are used to control the flow of execution of the program.\n",
    "The if statement is used to check a condition:\n",
    "if the condition is true, we run a block of statements (called the if-block),\n",
    "else we process another block of statements (called the else-block).\n",
    "The else clause is optional.\n",
    "\n",
    "The if statement looks as follows:\n",
    "if expression:\n",
    "   statement(s)\n",
    "else:\n",
    "   statement(s)\n",
    "\n",
    "The elif (else if) statement allows you to check multiple expressions for TRUE\n",
    "and execute a block of code as soon as one of the conditions evaluates to TRUE.\n",
    "Similar to the else, the elif statement is optional.\n",
    "However, unlike else, for which there can be at most one statement,\n",
    "there can be an arbitrary number of elif statements following an if.\n",
    "\n",
    "The elif statement looks as follows:\n",
    "if expression1:\n",
    "   statement(s)\n",
    "elif expression2:\n",
    "   statement(s)\n",
    "elif expression3:\n",
    "   statement(s)\n",
    "else:\n",
    "   statement(s)\n",
    "\n",
    "The else statement allows you to execute a block of statements\n",
    "if none of the conditions are true.\n",
    "The else statement is optional.\n",
    "\n",
    "The if statement evaluates a condition and executes the code inside the block only if the condition is true.\n",
    "Conditions are expressions that evaluate to a boolean value (True or False)."
   ]
  },
  {
   "cell_type": "code",
   "execution_count": 4,
   "metadata": {},
   "outputs": [
    {
     "name": "stdout",
     "output_type": "stream",
     "text": [
      "True\n",
      "False\n",
      "True\n",
      "True\n",
      "True\n"
     ]
    },
    {
     "name": "stderr",
     "output_type": "stream",
     "text": [
      "<>:9: SyntaxWarning: \"is not\" with a literal. Did you mean \"!=\"?\n",
      "<>:9: SyntaxWarning: \"is not\" with a literal. Did you mean \"!=\"?\n",
      "C:\\Users\\Roy\\AppData\\Local\\Temp\\ipykernel_16936\\1792678304.py:9: SyntaxWarning: \"is not\" with a literal. Did you mean \"!=\"?\n",
      "  condition = 1 is not 2\n"
     ]
    }
   ],
   "source": [
    "# Conditions\n",
    "\n",
    "condition = 1 == 1\n",
    "print(condition)\n",
    "\n",
    "condition = 1 == 2\n",
    "print(condition)\n",
    "\n",
    "condition = 1 != 2\n",
    "print(condition)\n",
    "\n",
    "condition = 1 < 2\n",
    "print(condition)\n",
    "\n",
    "condition = 1 <= 2\n",
    "print(condition)"
   ]
  },
  {
   "cell_type": "code",
   "execution_count": 3,
   "metadata": {},
   "outputs": [
    {
     "name": "stdout",
     "output_type": "stream",
     "text": [
      "True\n",
      "False\n",
      "True\n",
      "True\n"
     ]
    }
   ],
   "source": [
    "# chain conditions\n",
    "\n",
    "condition = 1 < 2 and 2 < 3\n",
    "print(condition)\n",
    "\n",
    "condition = 1 < 2 and 2 > 3\n",
    "print(condition)\n",
    "\n",
    "condition = 1 < 2 and not 2 > 3\n",
    "print(condition)\n",
    "\n",
    "condition = 1 < 2 or 2 > 3\n",
    "print(condition)\n"
   ]
  },
  {
   "cell_type": "code",
   "execution_count": 7,
   "metadata": {},
   "outputs": [
    {
     "name": "stdout",
     "output_type": "stream",
     "text": [
      "true\n",
      "false\n"
     ]
    }
   ],
   "source": [
    "# using the if statement\n",
    "\n",
    "if True:\n",
    "    print('true')\n",
    "else:\n",
    "    "
   ]
  },
  {
   "cell_type": "code",
   "execution_count": 12,
   "metadata": {},
   "outputs": [
    {
     "name": "stdout",
     "output_type": "stream",
     "text": [
      "John is not 17 or 18 years old, he is 19 years old\n"
     ]
    }
   ],
   "source": [
    "# example\n",
    "\n",
    "name = 'John'\n",
    "age = 19\n",
    "\n",
    "if name == 'John' and age == 17:\n",
    "    print('John is 17 years old')\n",
    "elif name == 'John' and age == 18:\n",
    "    print('John is 18 years old')\n",
    "else:\n",
    "    print('John is not 17 or 18 years old, he is', age, 'years old')"
   ]
  },
  {
   "cell_type": "code",
   "execution_count": 1,
   "metadata": {},
   "outputs": [
    {
     "name": "stdout",
     "output_type": "stream",
     "text": [
      "Invalid number of items! Please enter a positive number\n",
      "You want to buy -5 items\n"
     ]
    }
   ],
   "source": [
    "# Real world example\n",
    "# Lets say we have ask a user to enter a number of items they want to buy\n",
    "# The number has to be positive and we have to make sure that the user enters a number\n",
    "# We can use an if statement to check if the number is positive\n",
    "\n",
    "number_of_items = int(input(\"Enter the number of items you want to buy: \"))\n",
    "if number_of_items < 0:\n",
    "    print(\"Invalid number of items! Please enter a positive number\")\n",
    "    number_of_items = int(input(\"Enter the number of items you want to buy: \"))\n",
    "\n",
    "print(\"You want to buy \" + str(number_of_items) + \" items\")\n",
    "\n",
    "# This, of course, is not the best way to do it, but it is a start\n",
    "# We will learn how to do it better in the next lesson"
   ]
  }
 ],
 "metadata": {
  "kernelspec": {
   "display_name": "Python 3",
   "language": "python",
   "name": "python3"
  },
  "language_info": {
   "codemirror_mode": {
    "name": "ipython",
    "version": 3
   },
   "file_extension": ".py",
   "mimetype": "text/x-python",
   "name": "python",
   "nbconvert_exporter": "python",
   "pygments_lexer": "ipython3",
   "version": "3.11.4"
  }
 },
 "nbformat": 4,
 "nbformat_minor": 2
}
