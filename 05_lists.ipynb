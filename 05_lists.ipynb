{
 "cells": [
  {
   "cell_type": "code",
   "execution_count": 1,
   "metadata": {},
   "outputs": [
    {
     "name": "stdout",
     "output_type": "stream",
     "text": [
      "[]\n"
     ]
    }
   ],
   "source": [
    "# Lists\n",
    "\n",
    "# Lists are a collection of items in a particular order.\n",
    "# Lists are mutable, meaning they can be changed.\n",
    "\n",
    "# Creating a list\n",
    "# Use square brackets to define a list.\n",
    "# Separate items in the list with commas.\n",
    "# Lists can contain any data type.\n",
    "\n",
    "# Empty list\n",
    "empty_list = []\n",
    "print(empty_list)"
   ]
  },
  {
   "cell_type": "code",
   "execution_count": 4,
   "metadata": {},
   "outputs": [
    {
     "name": "stdout",
     "output_type": "stream",
     "text": [
      "[1, 2]\n"
     ]
    }
   ],
   "source": [
    "# Add items to the list\n",
    "my_list = []\n",
    "my_list.append(1)\n",
    "my_list.append(2)\n",
    "\n",
    "print(my_list)"
   ]
  },
  {
   "cell_type": "code",
   "execution_count": 6,
   "metadata": {},
   "outputs": [
    {
     "name": "stdout",
     "output_type": "stream",
     "text": [
      "1\n",
      "5\n"
     ]
    }
   ],
   "source": [
    "# Accessing items in a list\n",
    "# Use square brackets to access items in a list.\n",
    "# The index starts at 0.\n",
    "# Use negative index to access items from the end of the list.\n",
    "# The last item has index -1.\n",
    "\n",
    "my_list = [1, 2, 3, 4, 5]\n",
    "print(my_list[0])\n",
    "# Negative index\n",
    "print(my_list[-1])"
   ]
  },
  {
   "cell_type": "code",
   "execution_count": 7,
   "metadata": {},
   "outputs": [
    {
     "name": "stdout",
     "output_type": "stream",
     "text": [
      "1\n",
      "2\n",
      "3\n",
      "4\n",
      "5\n"
     ]
    }
   ],
   "source": [
    "# Iterate over a list\n",
    "# Use a for loop to iterate over a list.\n",
    "\n",
    "my_list = [1, 2, 3, 4, 5]\n",
    "for item in my_list:\n",
    "    print(item)"
   ]
  },
  {
   "cell_type": "code",
   "execution_count": 4,
   "metadata": {},
   "outputs": [
    {
     "name": "stdout",
     "output_type": "stream",
     "text": [
      "1\n",
      "5\n",
      "3\n",
      "2\n"
     ]
    }
   ],
   "source": [
    "# Simple interactive program to add items to a list\n",
    "\n",
    "# Create an empty list\n",
    "my_list = []\n",
    "\n",
    "# Add items to the list\n",
    "while True:\n",
    "    item = input(\"Enter an item: \")\n",
    "    if item == \"q\":\n",
    "        break                           # Exit the loop\n",
    "    my_list.append(item)\n",
    "\n",
    "# Print the list using an indexed for loop\n",
    "for i in range(len(my_list)):\n",
    "    print(my_list[i])"
   ]
  },
  {
   "cell_type": "code",
   "execution_count": 5,
   "metadata": {},
   "outputs": [
    {
     "name": "stdout",
     "output_type": "stream",
     "text": [
      "Total: 11\n"
     ]
    }
   ],
   "source": [
    "# Calculate the sum of the items in the list\n",
    "total = 0\n",
    "for item in my_list:\n",
    "    total += int(item)\n",
    "    \n",
    "print(\"Total:\", total)"
   ]
  }
 ],
 "metadata": {
  "kernelspec": {
   "display_name": "Python 3",
   "language": "python",
   "name": "python3"
  },
  "language_info": {
   "codemirror_mode": {
    "name": "ipython",
    "version": 3
   },
   "file_extension": ".py",
   "mimetype": "text/x-python",
   "name": "python",
   "nbconvert_exporter": "python",
   "pygments_lexer": "ipython3",
   "version": "3.11.4"
  }
 },
 "nbformat": 4,
 "nbformat_minor": 2
}
