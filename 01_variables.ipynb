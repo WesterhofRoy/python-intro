{
 "cells": [
  {
   "cell_type": "markdown",
   "metadata": {},
   "source": [
    "# First steps!\n",
    "Welcome to the first lesson on programming!\n",
    "In this lesson, we will cover the basics of Python programming.\n",
    "Python is a powerful and versatile programming language that is widely used in various domains.\n",
    "By the end of this lesson, you will have a solid understanding of the fundamental concepts of Python programming.\n",
    "Let's get started!"
   ]
  },
  {
   "cell_type": "code",
   "execution_count": 1,
   "metadata": {},
   "outputs": [
    {
     "name": "stdout",
     "output_type": "stream",
     "text": [
      "Hello World\n"
     ]
    }
   ],
   "source": [
    "# Let's start with a simple \"Hello World\" program.\n",
    "print(\"Hello World\")\n",
    "\n",
    "# The print() function is used to print text to the console.\n",
    "# In this case, we are printing the text \"Hello World\".\n",
    "# Note that the text is enclosed in double quotes.\n",
    "# Any text enclosed in double or single quotes is known as a string in programming."
   ]
  },
  {
   "cell_type": "code",
   "execution_count": 2,
   "metadata": {},
   "outputs": [
    {
     "name": "stdout",
     "output_type": "stream",
     "text": [
      "1\n"
     ]
    }
   ],
   "source": [
    "# The print() function can be used to print strings as well as numbers.\n",
    "print(1)\n",
    "\n",
    "# In this case, we are printing the number 1.\n",
    "# Note that the number is not enclosed in double quotes.\n",
    "# Any number without quotes is treated as a number in programming."
   ]
  },
  {
   "cell_type": "code",
   "execution_count": 2,
   "metadata": {},
   "outputs": [
    {
     "name": "stdout",
     "output_type": "stream",
     "text": [
      "3\n"
     ]
    }
   ],
   "source": [
    "# The print() function can be used to print the result of expressions.\n",
    "print(1 + 2)\n",
    "# In this case, we are printing the result of the expression 1 + 2.\n",
    "# The expression is evaluated first and the result is printed to the console."
   ]
  },
  {
   "cell_type": "code",
   "execution_count": 3,
   "metadata": {},
   "outputs": [
    {
     "name": "stdout",
     "output_type": "stream",
     "text": [
      "1\n"
     ]
    }
   ],
   "source": [
    "# To store a value in the computer's memory, we can use variables.\n",
    "# Variables are like named containers for storing data.\n",
    "# For example, we can use the variable x to store the value 1.\n",
    "x = 1\n",
    "\n",
    "# Now, we can print the value stored in the variable x.\n",
    "print(x)"
   ]
  },
  {
   "cell_type": "code",
   "execution_count": 15,
   "metadata": {},
   "outputs": [
    {
     "ename": "TypeError",
     "evalue": "unsupported operand type(s) for +: 'int' and 'str'",
     "output_type": "error",
     "traceback": [
      "\u001b[1;31m---------------------------------------------------------------------------\u001b[0m",
      "\u001b[1;31mTypeError\u001b[0m                                 Traceback (most recent call last)",
      "\u001b[1;32mc:\\Users\\Roy\\Documents\\projects\\python-intro\\01_variables.ipynb Cell 6\u001b[0m line \u001b[0;36m1\n\u001b[0;32m     <a href='vscode-notebook-cell:/c%3A/Users/Roy/Documents/projects/python-intro/01_variables.ipynb#W5sZmlsZQ%3D%3D?line=11'>12</a>\u001b[0m b \u001b[39m=\u001b[39m \u001b[39mTrue\u001b[39;00m \u001b[39m# boolean values are either True or False\u001b[39;00m\n\u001b[0;32m     <a href='vscode-notebook-cell:/c%3A/Users/Roy/Documents/projects/python-intro/01_variables.ipynb#W5sZmlsZQ%3D%3D?line=13'>14</a>\u001b[0m a \u001b[39m=\u001b[39m \u001b[39m1\u001b[39m\n\u001b[1;32m---> <a href='vscode-notebook-cell:/c%3A/Users/Roy/Documents/projects/python-intro/01_variables.ipynb#W5sZmlsZQ%3D%3D?line=14'>15</a>\u001b[0m \u001b[39mprint\u001b[39m(a\u001b[39m+\u001b[39;49m\u001b[39m\"\u001b[39;49m\u001b[39m0.5\u001b[39;49m\u001b[39m\"\u001b[39;49m)\n",
      "\u001b[1;31mTypeError\u001b[0m: unsupported operand type(s) for +: 'int' and 'str'"
     ]
    }
   ],
   "source": [
    "# There are a few common types of variables used in programming.\n",
    "# For example, we can use variables of type string to store text.\n",
    "name = \"John\" # strings are enclosed in double or single quotes\n",
    "\n",
    "# We can use variables of type int to store integers.\n",
    "a = 1 # integers are whole numbers without a decimal point\n",
    "\n",
    "# We can use variables of type float to store decimal numbers.\n",
    "pi = 3.14 # float values are written with a decimal point\n",
    "\n",
    "# We can use variables of type bool to store boolean values.\n",
    "b = True # boolean values are either True or False"
   ]
  },
  {
   "cell_type": "code",
   "execution_count": 4,
   "metadata": {},
   "outputs": [
    {
     "name": "stdout",
     "output_type": "stream",
     "text": [
      "3\n"
     ]
    }
   ],
   "source": [
    "# Variables can be used to store the result of expressions.\n",
    "x = 1\n",
    "y = 2\n",
    "z = x + y # the result of the expression x + y is stored in the variable z\n",
    "print(z)"
   ]
  },
  {
   "cell_type": "code",
   "execution_count": 7,
   "metadata": {},
   "outputs": [
    {
     "name": "stdout",
     "output_type": "stream",
     "text": [
      "Hello John\n"
     ]
    }
   ],
   "source": [
    "# This can also be done with strings.\n",
    "name = \"John\"\n",
    "greeting = \"Hello \" + name # the result of the expression \"Hello \" + name is stored in greeting\n",
    "print(greeting)"
   ]
  },
  {
   "cell_type": "code",
   "execution_count": 5,
   "metadata": {},
   "outputs": [
    {
     "name": "stdout",
     "output_type": "stream",
     "text": [
      "12\n"
     ]
    }
   ],
   "source": [
    "# Let's try a few real world examples.\n",
    "# Suppose you are going to the supermarket to buy apples.\n",
    "# You want to buy 6 apples and each apple costs 2 dollars.\n",
    "# How much money will you spend on apples?\n",
    "# We can use variables to store the number of apples and the cost per apple.\n",
    "number_of_apples = 6\n",
    "cost_per_apple = 2\n",
    "\n",
    "# We can use the variables to calculate the total cost.\n",
    "total_cost = number_of_apples * cost_per_apple\n",
    "print(total_cost)"
   ]
  },
  {
   "cell_type": "code",
   "execution_count": 7,
   "metadata": {},
   "outputs": [
    {
     "name": "stdout",
     "output_type": "stream",
     "text": [
      "Hello Roy\n"
     ]
    }
   ],
   "source": [
    "# When creating a program, you often want to get input from the user.\n",
    "# For example, you may want to ask the user to enter their name.\n",
    "# We can use the input() function to get input from the user.\n",
    "name = input(\"Enter your name: \")\n",
    "print(\"Hello \" + name)"
   ]
  },
  {
   "cell_type": "code",
   "execution_count": 12,
   "metadata": {},
   "outputs": [
    {
     "name": "stdout",
     "output_type": "stream",
     "text": [
      "sdkajdkjhakdjhasjkhdjkahsjkdha 5 apples\n",
      "user entered 5 dollars per apple\n"
     ]
    },
    {
     "ename": "NameError",
     "evalue": "name 'Number_of_apples' is not defined",
     "output_type": "error",
     "traceback": [
      "\u001b[1;31m---------------------------------------------------------------------------\u001b[0m",
      "\u001b[1;31mNameError\u001b[0m                                 Traceback (most recent call last)",
      "\u001b[1;32mc:\\Users\\Roy\\Documents\\projects\\python-intro\\01_variables.ipynb Cell 11\u001b[0m line \u001b[0;36m6\n\u001b[0;32m      <a href='vscode-notebook-cell:/c%3A/Users/Roy/Documents/projects/python-intro/01_variables.ipynb#X13sZmlsZQ%3D%3D?line=3'>4</a>\u001b[0m cost_per_apple \u001b[39m=\u001b[39m \u001b[39mint\u001b[39m(\u001b[39minput\u001b[39m(\u001b[39m\"\u001b[39m\u001b[39mEnter cost per apple: \u001b[39m\u001b[39m\"\u001b[39m))\n\u001b[0;32m      <a href='vscode-notebook-cell:/c%3A/Users/Roy/Documents/projects/python-intro/01_variables.ipynb#X13sZmlsZQ%3D%3D?line=4'>5</a>\u001b[0m \u001b[39mprint\u001b[39m(\u001b[39m'\u001b[39m\u001b[39muser entered\u001b[39m\u001b[39m'\u001b[39m, cost_per_apple, \u001b[39m'\u001b[39m\u001b[39mdollars per apple\u001b[39m\u001b[39m'\u001b[39m)\n\u001b[1;32m----> <a href='vscode-notebook-cell:/c%3A/Users/Roy/Documents/projects/python-intro/01_variables.ipynb#X13sZmlsZQ%3D%3D?line=5'>6</a>\u001b[0m total_cost \u001b[39m=\u001b[39m Number_of_apples \u001b[39m*\u001b[39m cost_per_apple\n\u001b[0;32m      <a href='vscode-notebook-cell:/c%3A/Users/Roy/Documents/projects/python-intro/01_variables.ipynb#X13sZmlsZQ%3D%3D?line=6'>7</a>\u001b[0m \u001b[39mprint\u001b[39m(\u001b[39m\"\u001b[39m\u001b[39mTotal cost:\u001b[39m\u001b[39m\"\u001b[39m, total_cost)\n",
      "\u001b[1;31mNameError\u001b[0m: name 'Number_of_apples' is not defined"
     ]
    }
   ],
   "source": [
    "# The previous real world example can be modified to get the number of apples and cost per apple from the user.\n",
    "number_of_apples = int(input(\"Enter number of apples: \"))\n",
    "print('sdkajdkjhakdjhasjkhdjkahsjkdha', number_of_apples, 'apples')\n",
    "cost_per_apple = int(input(\"Enter cost per apple: \"))\n",
    "print('user entered', cost_per_apple, 'dollars per apple')\n",
    "total_cost = number_of_apples * cost_per_apple\n",
    "print(\"Total cost:\", total_cost)"
   ]
  },
  {
   "cell_type": "code",
   "execution_count": 2,
   "metadata": {},
   "outputs": [
    {
     "name": "stdout",
     "output_type": "stream",
     "text": [
      "15\n"
     ]
    }
   ],
   "source": [
    "x='1'\n",
    "y='5'\n",
    "\n",
    "print(x+y)"
   ]
  }
 ],
 "metadata": {
  "kernelspec": {
   "display_name": "Python 3",
   "language": "python",
   "name": "python3"
  },
  "language_info": {
   "codemirror_mode": {
    "name": "ipython",
    "version": 3
   },
   "file_extension": ".py",
   "mimetype": "text/x-python",
   "name": "python",
   "nbconvert_exporter": "python",
   "pygments_lexer": "ipython3",
   "version": "3.11.4"
  }
 },
 "nbformat": 4,
 "nbformat_minor": 2
}
