{
 "cells": [
  {
   "cell_type": "code",
   "execution_count": 1,
   "metadata": {},
   "outputs": [
    {
     "name": "stdout",
     "output_type": "stream",
     "text": [
      "You cannot have a negative number of apples!\n",
      "You cannot have a negative number of apples!\n",
      "You cannot have a negative number of apples!\n",
      "You cannot have a negative number of apples!\n",
      "You cannot have a negative number of apples!\n",
      "Here are your 5 apples!\n"
     ]
    }
   ],
   "source": [
    "# In the previous notebook, we learned about about if statements.\n",
    "# We found that we can use if statements to make decisions in our code.\n",
    "# But what if we want to do something more than once?\n",
    "# We can use loops to repeat code.\n",
    "# There are two types of loops: for loops and while loops.\n",
    "# Let's start with while loops.\n",
    "\n",
    "# A while loop will repeat code as long as a condition is true.\n",
    "\n",
    "# Lets start with (kind of) the same example as before.\n",
    "# We will ask the user to input the amount of apples they want.\n",
    "# If they enter a negative number, we will ask them to try again.\n",
    "# If they enter a positive number, we will give them that many apples.\n",
    "\n",
    "# First, we will ask the user to input the amount of apples they want.\n",
    "\n",
    "number_of_apples = int(input(\"How many apples do you want? \"))\n",
    "\n",
    "# Next, we will check if the number of apples is negative, using a while loop.\n",
    "\n",
    "while number_of_apples < 0:\n",
    "    print(\"You cannot have a negative number of apples!\")\n",
    "    number_of_apples = int(input(\"How many apples do you want? \"))\n",
    "\n",
    "# Finally, we will give the user the apples they asked for.\n",
    "\n",
    "print(\"Here are your\", number_of_apples, \"apples!\")\n"
   ]
  }
 ],
 "metadata": {
  "kernelspec": {
   "display_name": "Python 3",
   "language": "python",
   "name": "python3"
  },
  "language_info": {
   "codemirror_mode": {
    "name": "ipython",
    "version": 3
   },
   "file_extension": ".py",
   "mimetype": "text/x-python",
   "name": "python",
   "nbconvert_exporter": "python",
   "pygments_lexer": "ipython3",
   "version": "3.11.4"
  }
 },
 "nbformat": 4,
 "nbformat_minor": 2
}
