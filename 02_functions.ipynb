{
 "cells": [
  {
   "cell_type": "markdown",
   "metadata": {},
   "source": [
    "# Functions\n",
    "\n",
    "Let's look at some functions in Python.\n",
    "A function is a block of code which only runs when it is called.\n",
    "Functions can be used to perform the same task multiple times.\n",
    "\n",
    "You can pass data, known as parameters, into a function.\n",
    "A function can return data as a result."
   ]
  },
  {
   "cell_type": "code",
   "execution_count": 3,
   "metadata": {},
   "outputs": [
    {
     "name": "stdout",
     "output_type": "stream",
     "text": [
      "6\n",
      "10\n"
     ]
    }
   ],
   "source": [
    "# A function is defined using the def keyword:\n",
    "\n",
    "def add(a, b):\n",
    "    return a + b\n",
    "\n",
    "# To call a function, use the function name followed by parenthesis:\n",
    "\n",
    "print(add(1, 5))\n",
    "\n",
    "print(add(6, 4))"
   ]
  },
  {
   "cell_type": "code",
   "execution_count": 2,
   "metadata": {},
   "outputs": [
    {
     "name": "stdout",
     "output_type": "stream",
     "text": [
      "Hello, Roy\n"
     ]
    }
   ],
   "source": [
    "# Code should generally never be repeated. Instead, it should be placed inside a function and called when needed,\n",
    "# as above.\n",
    "# This way, the same code can be executed many times without having to write the same code over and over again.\n",
    "\n",
    "# Arguments\n",
    "# Information can be passed into functions as arguments.\n",
    "# Arguments are specified after the function name, inside the parentheses. You can add as many arguments as you want,\n",
    "# just separate them with a comma.\n",
    "\n",
    "def greet(name):\n",
    "    print(\"Hello, \" + name)\n",
    "\n",
    "name = \"Roy\"\n",
    "greet(name)\n",
    "\n",
    "# You may have noticed that the function greet() takes a parameter: name, and we also defined a variable with the same\n",
    "# name. The variable name is local to the function. This means that the variable name can only be used inside the\n",
    "# function.\n",
    "# The name variable is not accessible outside of the function. If you try to print it outside of the function,\n",
    "# you will get an error."
   ]
  },
  {
   "cell_type": "code",
   "execution_count": 3,
   "metadata": {},
   "outputs": [
    {
     "name": "stdout",
     "output_type": "stream",
     "text": [
      "Hello, Steve\n",
      "Hello, John\n"
     ]
    }
   ],
   "source": [
    "# Default Parameter Value\n",
    "# The following example shows how to use a default parameter value.\n",
    "\n",
    "def greet(name = \"John\"):\n",
    "    print(\"Hello, \" + name)\n",
    "\n",
    "greet(\"Steve\")\n",
    "greet()"
   ]
  },
  {
   "cell_type": "code",
   "execution_count": 4,
   "metadata": {},
   "outputs": [
    {
     "name": "stdout",
     "output_type": "stream",
     "text": [
      "The area of the circle is 50.26548245743669\n"
     ]
    }
   ],
   "source": [
    "# Let's see a real world example, where the use of a function makes sense.\n",
    "\n",
    "# Let's say we want to calculate the area of a circle. We know that the area of a circle is calculated by the formula:\n",
    "# A = πr²\n",
    "# where r is the radius of the circle.\n",
    "# The Python code could look like this:\n",
    "\n",
    "def area_of_circle(radius):\n",
    "    pi = 3.141592653589793238 # float (decimal number)\n",
    "    area = pi * radius ** 2\n",
    "    return area\n",
    "\n",
    "radius = float(input(\"Enter the radius of the circle: \")) # We need to convert the input to a float, because input\n",
    "                                                          # returns a string. We can't multiply a string with a float.\n",
    "area = area_of_circle(radius)\n",
    "print(\"The area of the circle is\", area)\n",
    "\n",
    "# The function area_of_circle() takes one argument: radius. The function returns the area of the circle.\n",
    "# The function is called with the radius variable as argument, and the returned value is assigned to the area variable.\n",
    "# The area variable is then printed.\n",
    "\n",
    "# You may have noticed that the function area_of_circle() has a variable called pi. This variable is local to the\n",
    "# function. This means that the variable pi can only be used inside the function.\n",
    "\n",
    "print(pi) # This will cause an error, because pi is not defined outside of the function."
   ]
  },
  {
   "cell_type": "code",
   "execution_count": 38,
   "metadata": {},
   "outputs": [
    {
     "name": "stdout",
     "output_type": "stream",
     "text": [
      "answer to question ('How many', 'apples', 'do you want? ') : 4\n",
      "answer to question ('Cost of a ', 'apples', '? ') : 6\n",
      "24\n",
      "24\n",
      "answer to question ('How many', 'tv', 'do you want? ') : 3\n",
      "answer to question ('Cost of a ', 'tv', '? ') : 1000\n",
      "3000\n",
      "3000\n"
     ]
    }
   ],
   "source": [
    "# I have x amount of apples\n",
    "# 1 apple costs y amount\n",
    "\n",
    "# how much do all the apples cost\n",
    "# total = x*y\n",
    "\n",
    "\n",
    "\n",
    "def get_user_input(message):\n",
    "    user_input = int(input(message))\n",
    "    print(\"answer to question\", message, \":\", user_input)\n",
    "    return user_input\n",
    "\n",
    "def calculate_costs(amount, cost):\n",
    "    return amount*cost\n",
    "\n",
    "def calculate_cost_of_product(kind_of_product):\n",
    "    question = \"How many\", kind_of_product, \"do you want? \"\n",
    "    number_of_apples = get_user_input(question)\n",
    "    question = \"Cost of a \", kind_of_product, \"? \"\n",
    "    costs_of_apple = get_user_input(question)\n",
    "    total_cost = calculate_costs(number_of_apples, costs_of_apple)\n",
    "    print(total_cost)\n",
    "    return total_cost\n",
    "\n",
    "def get_tax(total_cost):\n",
    "    return total_cost * 0.21\n",
    "\n",
    "def profit(total_cost, tax):\n",
    "    return total_cost - tax\n",
    "\n",
    "print(calculate_cost_of_product(\"apples\"))\n",
    "print(calculate_cost_of_product(\"tv\"))\n"
   ]
  }
 ],
 "metadata": {
  "kernelspec": {
   "display_name": "Python 3",
   "language": "python",
   "name": "python3"
  },
  "language_info": {
   "codemirror_mode": {
    "name": "ipython",
    "version": 3
   },
   "file_extension": ".py",
   "mimetype": "text/x-python",
   "name": "python",
   "nbconvert_exporter": "python",
   "pygments_lexer": "ipython3",
   "version": "3.11.4"
  }
 },
 "nbformat": 4,
 "nbformat_minor": 2
}
