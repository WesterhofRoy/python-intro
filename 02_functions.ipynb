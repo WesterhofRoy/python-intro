{
 "cells": [
  {
   "cell_type": "markdown",
   "metadata": {},
   "source": [
    "# Functions\n",
    "\n",
    "Let's look at some functions in Python.\n",
    "A function is a block of code which only runs when it is called.\n",
    "Functions can be used to perform the same task multiple times.\n",
    "\n",
    "You can pass data, known as parameters, into a function.\n",
    "A function can return data as a result."
   ]
  },
  {
   "cell_type": "code",
   "execution_count": 1,
   "metadata": {},
   "outputs": [
    {
     "name": "stdout",
     "output_type": "stream",
     "text": [
      "Hello from a function\n"
     ]
    }
   ],
   "source": [
    "# A function is defined using the def keyword:\n",
    "\n",
    "def my_function():\n",
    "    print(\"Hello from a function\")\n",
    "\n",
    "# To call a function, use the function name followed by parenthesis:\n",
    "\n",
    "my_function()"
   ]
  },
  {
   "cell_type": "code",
   "execution_count": 2,
   "metadata": {},
   "outputs": [
    {
     "name": "stdout",
     "output_type": "stream",
     "text": [
      "Hello, Roy\n"
     ]
    }
   ],
   "source": [
    "# Code should generally never be repeated. Instead, it should be placed inside a function and called when needed,\n",
    "# as above.\n",
    "# This way, the same code can be executed many times without having to write the same code over and over again.\n",
    "\n",
    "# Arguments\n",
    "# Information can be passed into functions as arguments.\n",
    "# Arguments are specified after the function name, inside the parentheses. You can add as many arguments as you want,\n",
    "# just separate them with a comma.\n",
    "\n",
    "def greet(name):\n",
    "    print(\"Hello, \" + name)\n",
    "\n",
    "name = input(\"What is your name? \")\n",
    "greet(name)\n",
    "\n",
    "# You may have noticed that the function greet() takes a parameter: name, and we also defined a variable with the same\n",
    "# name. The variable name is local to the function. This means that the variable name can only be used inside the\n",
    "# function.\n",
    "# The name variable is not accessible outside of the function. If you try to print it outside of the function,\n",
    "# you will get an error."
   ]
  },
  {
   "cell_type": "code",
   "execution_count": 3,
   "metadata": {},
   "outputs": [
    {
     "name": "stdout",
     "output_type": "stream",
     "text": [
      "Hello, Steve\n",
      "Hello, John\n"
     ]
    }
   ],
   "source": [
    "# Default Parameter Value\n",
    "# The following example shows how to use a default parameter value.\n",
    "\n",
    "def greet(name = \"John\"):\n",
    "    print(\"Hello, \" + name)\n",
    "\n",
    "greet(\"Steve\")\n",
    "greet()"
   ]
  },
  {
   "cell_type": "code",
   "execution_count": 4,
   "metadata": {},
   "outputs": [
    {
     "name": "stdout",
     "output_type": "stream",
     "text": [
      "The area of the circle is 50.26548245743669\n"
     ]
    }
   ],
   "source": [
    "# Let's see a real world example, where the use of a function makes sense.\n",
    "\n",
    "# Let's say we want to calculate the area of a circle. We know that the area of a circle is calculated by the formula:\n",
    "# A = πr²\n",
    "# where r is the radius of the circle.\n",
    "# The Python code could look like this:\n",
    "\n",
    "def area_of_circle(radius):\n",
    "    pi = 3.141592653589793238 # float (decimal number)\n",
    "    area = pi * radius ** 2\n",
    "    return area\n",
    "\n",
    "radius = float(input(\"Enter the radius of the circle: \")) # We need to convert the input to a float, because input\n",
    "                                                          # returns a string. We can't multiply a string with a float.\n",
    "area = area_of_circle(radius)\n",
    "print(\"The area of the circle is\", area)\n",
    "\n",
    "# The function area_of_circle() takes one argument: radius. The function returns the area of the circle.\n",
    "# The function is called with the radius variable as argument, and the returned value is assigned to the area variable.\n",
    "# The area variable is then printed.\n",
    "\n",
    "# You may have noticed that the function area_of_circle() has a variable called pi. This variable is local to the\n",
    "# function. This means that the variable pi can only be used inside the function.\n",
    "\n",
    "print(pi) # This will cause an error, because pi is not defined outside of the function."
   ]
  }
 ],
 "metadata": {
  "kernelspec": {
   "display_name": "Python 3",
   "language": "python",
   "name": "python3"
  },
  "language_info": {
   "codemirror_mode": {
    "name": "ipython",
    "version": 3
   },
   "file_extension": ".py",
   "mimetype": "text/x-python",
   "name": "python",
   "nbconvert_exporter": "python",
   "pygments_lexer": "ipython3",
   "version": "3.11.4"
  }
 },
 "nbformat": 4,
 "nbformat_minor": 2
}
