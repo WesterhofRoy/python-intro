{
 "cells": [
  {
   "cell_type": "code",
   "execution_count": 14,
   "metadata": {},
   "outputs": [
    {
     "name": "stdout",
     "output_type": "stream",
     "text": [
      "3360.0\n",
      "3628.8\n"
     ]
    }
   ],
   "source": [
    "# Stel, ik werk bij BramInc\n",
    "# Ik verdien x euro per uur en werk y uren per week\n",
    "# Hoeveel verdien ik op maandbasis?\n",
    "\n",
    "# Vraag de gebruiker hoeveel hij verdient\n",
    "def Bereken_maandsalaris():\n",
    "    uurloon = int(input(\"Wat is je uurloon?\"))\n",
    "    uren = int(input(\"Hoeveel uur werk je per week?\"))\n",
    "    maandsalaris = uurloon*uren*4.2\n",
    "    return maandsalaris\n",
    "\n",
    "def Bereken_vakantiegeld(maandsalaris):\n",
    "    vakantiegeld = maandsalaris + maandsalaris * 0.08\n",
    "    return vakantiegeld\n",
    "\n",
    "maandsalaris = Bereken_maandsalaris()\n",
    "vakantiegeld = Bereken_vakantiegeld(maandsalaris=maandsalaris)\n",
    "print(maandsalaris)\n",
    "print(vakantiegeld)\n",
    "\n",
    "# Vraag de verbruiker hoeveel uur hij per week werkt\n",
    "\n",
    "\n",
    "# bereken het maandloon\n",
    "\n",
    "\n",
    "# laat het bedrag zien (print)\n",
    "\n",
    "\n",
    "\n"
   ]
  }
 ],
 "metadata": {
  "kernelspec": {
   "display_name": "Python 3",
   "language": "python",
   "name": "python3"
  },
  "language_info": {
   "codemirror_mode": {
    "name": "ipython",
    "version": 3
   },
   "file_extension": ".py",
   "mimetype": "text/x-python",
   "name": "python",
   "nbconvert_exporter": "python",
   "pygments_lexer": "ipython3",
   "version": "3.11.4"
  }
 },
 "nbformat": 4,
 "nbformat_minor": 2
}
